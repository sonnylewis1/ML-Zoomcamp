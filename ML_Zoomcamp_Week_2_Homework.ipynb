{
  "nbformat": 4,
  "nbformat_minor": 0,
  "metadata": {
    "colab": {
      "name": "ML Zoomcamp Week 2 Homework.ipynb",
      "provenance": [],
      "collapsed_sections": [],
      "authorship_tag": "ABX9TyPlAPBkegv22Orc496pavgB",
      "include_colab_link": true
    },
    "kernelspec": {
      "name": "python3",
      "display_name": "Python 3"
    },
    "language_info": {
      "name": "python"
    }
  },
  "cells": [
    {
      "cell_type": "markdown",
      "metadata": {
        "id": "view-in-github",
        "colab_type": "text"
      },
      "source": [
        "<a href=\"https://colab.research.google.com/github/sonnylewis1/ML-Zoomcamp/blob/main/ML_Zoomcamp_Week_2_Homework.ipynb\" target=\"_parent\"><img src=\"https://colab.research.google.com/assets/colab-badge.svg\" alt=\"Open In Colab\"/></a>"
      ]
    },
    {
      "cell_type": "code",
      "metadata": {
        "id": "gHzkPuLzX0Z-"
      },
      "source": [
        "import pandas as pd\n",
        "import numpy as np\n",
        "import matplotlib.pyplot as plt\n",
        "import seaborn as sns\n",
        "\n",
        "%matplotlib inline"
      ],
      "execution_count": 1,
      "outputs": []
    },
    {
      "cell_type": "code",
      "metadata": {
        "id": "2VjubtoYYq2l"
      },
      "source": [
        "url = \"https://raw.githubusercontent.com/alexeygrigorev/datasets/master/AB_NYC_2019.csv\"\n",
        "df = pd.read_csv(url)"
      ],
      "execution_count": 2,
      "outputs": []
    },
    {
      "cell_type": "code",
      "metadata": {
        "colab": {
          "base_uri": "https://localhost:8080/",
          "height": 418
        },
        "id": "HYO-aXY7Y7Xc",
        "outputId": "22c73521-3d6b-4eba-cedd-5aab9a1d3e3a"
      },
      "source": [
        "df.head()"
      ],
      "execution_count": 3,
      "outputs": [
        {
          "output_type": "execute_result",
          "data": {
            "text/html": [
              "<div>\n",
              "<style scoped>\n",
              "    .dataframe tbody tr th:only-of-type {\n",
              "        vertical-align: middle;\n",
              "    }\n",
              "\n",
              "    .dataframe tbody tr th {\n",
              "        vertical-align: top;\n",
              "    }\n",
              "\n",
              "    .dataframe thead th {\n",
              "        text-align: right;\n",
              "    }\n",
              "</style>\n",
              "<table border=\"1\" class=\"dataframe\">\n",
              "  <thead>\n",
              "    <tr style=\"text-align: right;\">\n",
              "      <th></th>\n",
              "      <th>id</th>\n",
              "      <th>name</th>\n",
              "      <th>host_id</th>\n",
              "      <th>host_name</th>\n",
              "      <th>neighbourhood_group</th>\n",
              "      <th>neighbourhood</th>\n",
              "      <th>latitude</th>\n",
              "      <th>longitude</th>\n",
              "      <th>room_type</th>\n",
              "      <th>price</th>\n",
              "      <th>minimum_nights</th>\n",
              "      <th>number_of_reviews</th>\n",
              "      <th>last_review</th>\n",
              "      <th>reviews_per_month</th>\n",
              "      <th>calculated_host_listings_count</th>\n",
              "      <th>availability_365</th>\n",
              "    </tr>\n",
              "  </thead>\n",
              "  <tbody>\n",
              "    <tr>\n",
              "      <th>0</th>\n",
              "      <td>2539</td>\n",
              "      <td>Clean &amp; quiet apt home by the park</td>\n",
              "      <td>2787</td>\n",
              "      <td>John</td>\n",
              "      <td>Brooklyn</td>\n",
              "      <td>Kensington</td>\n",
              "      <td>40.64749</td>\n",
              "      <td>-73.97237</td>\n",
              "      <td>Private room</td>\n",
              "      <td>149</td>\n",
              "      <td>1</td>\n",
              "      <td>9</td>\n",
              "      <td>2018-10-19</td>\n",
              "      <td>0.21</td>\n",
              "      <td>6</td>\n",
              "      <td>365</td>\n",
              "    </tr>\n",
              "    <tr>\n",
              "      <th>1</th>\n",
              "      <td>2595</td>\n",
              "      <td>Skylit Midtown Castle</td>\n",
              "      <td>2845</td>\n",
              "      <td>Jennifer</td>\n",
              "      <td>Manhattan</td>\n",
              "      <td>Midtown</td>\n",
              "      <td>40.75362</td>\n",
              "      <td>-73.98377</td>\n",
              "      <td>Entire home/apt</td>\n",
              "      <td>225</td>\n",
              "      <td>1</td>\n",
              "      <td>45</td>\n",
              "      <td>2019-05-21</td>\n",
              "      <td>0.38</td>\n",
              "      <td>2</td>\n",
              "      <td>355</td>\n",
              "    </tr>\n",
              "    <tr>\n",
              "      <th>2</th>\n",
              "      <td>3647</td>\n",
              "      <td>THE VILLAGE OF HARLEM....NEW YORK !</td>\n",
              "      <td>4632</td>\n",
              "      <td>Elisabeth</td>\n",
              "      <td>Manhattan</td>\n",
              "      <td>Harlem</td>\n",
              "      <td>40.80902</td>\n",
              "      <td>-73.94190</td>\n",
              "      <td>Private room</td>\n",
              "      <td>150</td>\n",
              "      <td>3</td>\n",
              "      <td>0</td>\n",
              "      <td>NaN</td>\n",
              "      <td>NaN</td>\n",
              "      <td>1</td>\n",
              "      <td>365</td>\n",
              "    </tr>\n",
              "    <tr>\n",
              "      <th>3</th>\n",
              "      <td>3831</td>\n",
              "      <td>Cozy Entire Floor of Brownstone</td>\n",
              "      <td>4869</td>\n",
              "      <td>LisaRoxanne</td>\n",
              "      <td>Brooklyn</td>\n",
              "      <td>Clinton Hill</td>\n",
              "      <td>40.68514</td>\n",
              "      <td>-73.95976</td>\n",
              "      <td>Entire home/apt</td>\n",
              "      <td>89</td>\n",
              "      <td>1</td>\n",
              "      <td>270</td>\n",
              "      <td>2019-07-05</td>\n",
              "      <td>4.64</td>\n",
              "      <td>1</td>\n",
              "      <td>194</td>\n",
              "    </tr>\n",
              "    <tr>\n",
              "      <th>4</th>\n",
              "      <td>5022</td>\n",
              "      <td>Entire Apt: Spacious Studio/Loft by central park</td>\n",
              "      <td>7192</td>\n",
              "      <td>Laura</td>\n",
              "      <td>Manhattan</td>\n",
              "      <td>East Harlem</td>\n",
              "      <td>40.79851</td>\n",
              "      <td>-73.94399</td>\n",
              "      <td>Entire home/apt</td>\n",
              "      <td>80</td>\n",
              "      <td>10</td>\n",
              "      <td>9</td>\n",
              "      <td>2018-11-19</td>\n",
              "      <td>0.10</td>\n",
              "      <td>1</td>\n",
              "      <td>0</td>\n",
              "    </tr>\n",
              "  </tbody>\n",
              "</table>\n",
              "</div>"
            ],
            "text/plain": [
              "     id  ... availability_365\n",
              "0  2539  ...              365\n",
              "1  2595  ...              355\n",
              "2  3647  ...              365\n",
              "3  3831  ...              194\n",
              "4  5022  ...                0\n",
              "\n",
              "[5 rows x 16 columns]"
            ]
          },
          "metadata": {},
          "execution_count": 3
        }
      ]
    },
    {
      "cell_type": "code",
      "metadata": {
        "colab": {
          "base_uri": "https://localhost:8080/",
          "height": 298
        },
        "id": "oTDzGhltZDuX",
        "outputId": "ccbdac57-7487-48fd-f1d8-ab14f549e3a3"
      },
      "source": [
        "sns.histplot(df.price, bins=50)"
      ],
      "execution_count": 4,
      "outputs": [
        {
          "output_type": "execute_result",
          "data": {
            "text/plain": [
              "<matplotlib.axes._subplots.AxesSubplot at 0x7fd2b7dc9250>"
            ]
          },
          "metadata": {},
          "execution_count": 4
        },
        {
          "output_type": "display_data",
          "data": {
            "image/png": "[encoded data removed]",
            "text/plain": [
              "<Figure size 432x288 with 1 Axes>"
            ]
          },
          "metadata": {
            "needs_background": "light"
          }
        }
      ]
    },
    {
      "cell_type": "code",
      "metadata": {
        "id": "D3sNzVLoZxsK"
      },
      "source": [
        "df_new = df[[\n",
        "    'latitude',\n",
        "    'longitude',\n",
        "    'price',\n",
        "    'minimum_nights',\n",
        "    'number_of_reviews',\n",
        "    'reviews_per_month',\n",
        "    'calculated_host_listings_count',\n",
        "    'availability_365'\n",
        "]]"
      ],
      "execution_count": 5,
      "outputs": []
    },
    {
      "cell_type": "markdown",
      "metadata": {
        "id": "2pRitX3TarpA"
      },
      "source": [
        "**QUESTION 1**"
      ]
    },
    {
      "cell_type": "code",
      "metadata": {
        "colab": {
          "base_uri": "https://localhost:8080/"
        },
        "id": "lKk2FMmTaQco",
        "outputId": "0cd46bc0-726e-44fe-b6ee-28446d460ad2"
      },
      "source": [
        "df_new.isnull().sum()"
      ],
      "execution_count": 6,
      "outputs": [
        {
          "output_type": "execute_result",
          "data": {
            "text/plain": [
              "latitude                              0\n",
              "longitude                             0\n",
              "price                                 0\n",
              "minimum_nights                        0\n",
              "number_of_reviews                     0\n",
              "reviews_per_month                 10052\n",
              "calculated_host_listings_count        0\n",
              "availability_365                      0\n",
              "dtype: int64"
            ]
          },
          "metadata": {},
          "execution_count": 6
        }
      ]
    },
    {
      "cell_type": "markdown",
      "metadata": {
        "id": "SxiDEsbiawP1"
      },
      "source": [
        "**QUESTION 2**"
      ]
    },
    {
      "cell_type": "code",
      "metadata": {
        "colab": {
          "base_uri": "https://localhost:8080/"
        },
        "id": "z8-9tcU-ankw",
        "outputId": "610468d1-b17d-4c6d-9a46-8e57ee29dc38"
      },
      "source": [
        "df_new['minimum_nights'].median()"
      ],
      "execution_count": 7,
      "outputs": [
        {
          "output_type": "execute_result",
          "data": {
            "text/plain": [
              "3.0"
            ]
          },
          "metadata": {},
          "execution_count": 7
        }
      ]
    },
    {
      "cell_type": "code",
      "metadata": {
        "id": "IG_h6dk8a8Kj"
      },
      "source": [
        "np.random.seed(42)"
      ],
      "execution_count": 8,
      "outputs": []
    },
    {
      "cell_type": "code",
      "metadata": {
        "id": "8sZYsD12a6G8"
      },
      "source": [
        "n = len(df_new)\n",
        "\n",
        "n_val = int(n * 0.2)\n",
        "n_test = int(n * 0.2)\n",
        "n_train = n - n_val - n_test"
      ],
      "execution_count": 9,
      "outputs": []
    },
    {
      "cell_type": "code",
      "metadata": {
        "colab": {
          "base_uri": "https://localhost:8080/"
        },
        "id": "tOksAzlVb_Nd",
        "outputId": "798809f3-198d-44d5-a8f4-6023969bd42d"
      },
      "source": [
        "n_val, n_test, n_train"
      ],
      "execution_count": 10,
      "outputs": [
        {
          "output_type": "execute_result",
          "data": {
            "text/plain": [
              "(9779, 9779, 29337)"
            ]
          },
          "metadata": {},
          "execution_count": 10
        }
      ]
    },
    {
      "cell_type": "code",
      "metadata": {
        "id": "l828YqhIcDat"
      },
      "source": [
        "idx = np.arange(n)\n",
        "np.random.shuffle(idx)"
      ],
      "execution_count": 11,
      "outputs": []
    },
    {
      "cell_type": "code",
      "metadata": {
        "id": "nKwPFZQecojT"
      },
      "source": [
        "df_train = df_new.iloc[idx[:n_train]]\n",
        "df_val = df_new.iloc[idx[n_train:n_train+n_val]]\n",
        "df_test = df_new.iloc[idx[n_train+n_val:]]"
      ],
      "execution_count": 12,
      "outputs": []
    },
    {
      "cell_type": "code",
      "metadata": {
        "colab": {
          "base_uri": "https://localhost:8080/",
          "height": 227
        },
        "id": "cMUL0VhQdv1j",
        "outputId": "8806fbe1-46ed-4f53-f5bd-6e8557db16f5"
      },
      "source": [
        "df_test.head()"
      ],
      "execution_count": 13,
      "outputs": [
        {
          "output_type": "execute_result",
          "data": {
            "text/html": [
              "<div>\n",
              "<style scoped>\n",
              "    .dataframe tbody tr th:only-of-type {\n",
              "        vertical-align: middle;\n",
              "    }\n",
              "\n",
              "    .dataframe tbody tr th {\n",
              "        vertical-align: top;\n",
              "    }\n",
              "\n",
              "    .dataframe thead th {\n",
              "        text-align: right;\n",
              "    }\n",
              "</style>\n",
              "<table border=\"1\" class=\"dataframe\">\n",
              "  <thead>\n",
              "    <tr style=\"text-align: right;\">\n",
              "      <th></th>\n",
              "      <th>latitude</th>\n",
              "      <th>longitude</th>\n",
              "      <th>price</th>\n",
              "      <th>minimum_nights</th>\n",
              "      <th>number_of_reviews</th>\n",
              "      <th>reviews_per_month</th>\n",
              "      <th>calculated_host_listings_count</th>\n",
              "      <th>availability_365</th>\n",
              "    </tr>\n",
              "  </thead>\n",
              "  <tbody>\n",
              "    <tr>\n",
              "      <th>19797</th>\n",
              "      <td>40.68866</td>\n",
              "      <td>-73.96147</td>\n",
              "      <td>48</td>\n",
              "      <td>20</td>\n",
              "      <td>24</td>\n",
              "      <td>0.78</td>\n",
              "      <td>1</td>\n",
              "      <td>304</td>\n",
              "    </tr>\n",
              "    <tr>\n",
              "      <th>39219</th>\n",
              "      <td>40.68554</td>\n",
              "      <td>-73.96651</td>\n",
              "      <td>120</td>\n",
              "      <td>3</td>\n",
              "      <td>3</td>\n",
              "      <td>0.47</td>\n",
              "      <td>1</td>\n",
              "      <td>0</td>\n",
              "    </tr>\n",
              "    <tr>\n",
              "      <th>45806</th>\n",
              "      <td>40.76805</td>\n",
              "      <td>-73.94929</td>\n",
              "      <td>150</td>\n",
              "      <td>1</td>\n",
              "      <td>2</td>\n",
              "      <td>2.00</td>\n",
              "      <td>1</td>\n",
              "      <td>83</td>\n",
              "    </tr>\n",
              "    <tr>\n",
              "      <th>17290</th>\n",
              "      <td>40.75571</td>\n",
              "      <td>-73.99594</td>\n",
              "      <td>90</td>\n",
              "      <td>15</td>\n",
              "      <td>0</td>\n",
              "      <td>NaN</td>\n",
              "      <td>1</td>\n",
              "      <td>0</td>\n",
              "    </tr>\n",
              "    <tr>\n",
              "      <th>45165</th>\n",
              "      <td>40.70780</td>\n",
              "      <td>-74.00675</td>\n",
              "      <td>130</td>\n",
              "      <td>29</td>\n",
              "      <td>0</td>\n",
              "      <td>NaN</td>\n",
              "      <td>327</td>\n",
              "      <td>349</td>\n",
              "    </tr>\n",
              "  </tbody>\n",
              "</table>\n",
              "</div>"
            ],
            "text/plain": [
              "       latitude  longitude  ...  calculated_host_listings_count  availability_365\n",
              "19797  40.68866  -73.96147  ...                               1               304\n",
              "39219  40.68554  -73.96651  ...                               1                 0\n",
              "45806  40.76805  -73.94929  ...                               1                83\n",
              "17290  40.75571  -73.99594  ...                               1                 0\n",
              "45165  40.70780  -74.00675  ...                             327               349\n",
              "\n",
              "[5 rows x 8 columns]"
            ]
          },
          "metadata": {},
          "execution_count": 13
        }
      ]
    },
    {
      "cell_type": "code",
      "metadata": {
        "id": "bJ1JM7gnd1AU"
      },
      "source": [
        "df_train = df_train.reset_index(drop=True)\n",
        "df_val = df_val.reset_index(drop=True)\n",
        "df_test = df_test.reset_index(drop=True)"
      ],
      "execution_count": 14,
      "outputs": []
    },
    {
      "cell_type": "code",
      "metadata": {
        "id": "S7_efc_teCbX"
      },
      "source": [
        "y_train = np.log1p(df_train.price.values)\n",
        "y_val = np.log1p(df_val.price.values)\n",
        "y_test = np.log1p(df_test.price.values)"
      ],
      "execution_count": 15,
      "outputs": []
    },
    {
      "cell_type": "code",
      "metadata": {
        "id": "gUeCqWBgeqS5"
      },
      "source": [
        "del df_train['price']\n",
        "del df_val['price']\n",
        "del df_test['price']"
      ],
      "execution_count": 16,
      "outputs": []
    },
    {
      "cell_type": "markdown",
      "metadata": {
        "id": "RmPwge1aiwAX"
      },
      "source": [
        "**QUESTION 3**"
      ]
    },
    {
      "cell_type": "code",
      "metadata": {
        "id": "jsaQDhlHoLKI"
      },
      "source": [
        "def train_linear_regression(X, y):\n",
        "    ones = np.ones(X.shape[0])\n",
        "    X = np.column_stack([ones, X])\n",
        "\n",
        "    XTX = X.T.dot(X)\n",
        "    XTX_inv = np.linalg.inv(XTX)\n",
        "    w_full = XTX_inv.dot(X.T).dot(y)\n",
        "    \n",
        "    return w_full[0], w_full[1:]"
      ],
      "execution_count": 17,
      "outputs": []
    },
    {
      "cell_type": "code",
      "metadata": {
        "id": "4HVMzp1Ao9s0"
      },
      "source": [
        "def rmse(y, y_pred):\n",
        "    se = (y - y_pred) ** 2\n",
        "    mse = se.mean()\n",
        "    return np.sqrt(mse)"
      ],
      "execution_count": 18,
      "outputs": []
    },
    {
      "cell_type": "code",
      "metadata": {
        "id": "nBWPukoGroWU"
      },
      "source": [
        "def prepare_X(df):\n",
        "    df = df.fillna(0)\n",
        "    X = df.values\n",
        "    return X"
      ],
      "execution_count": 19,
      "outputs": []
    },
    {
      "cell_type": "code",
      "metadata": {
        "id": "X9dDBNHItHSE"
      },
      "source": [
        "def prepare_X_mean(df):\n",
        "    df = df.fillna(df.mean())\n",
        "    X = df.values\n",
        "    return X"
      ],
      "execution_count": 20,
      "outputs": []
    },
    {
      "cell_type": "code",
      "metadata": {
        "id": "3EkcAz4Oe3K3"
      },
      "source": [
        "#FILLING MISSING VALUES WITH 0\n",
        "\n",
        "X_train = prepare_X(df_train)"
      ],
      "execution_count": 21,
      "outputs": []
    },
    {
      "cell_type": "code",
      "metadata": {
        "id": "2DdWgcxIojZz"
      },
      "source": [
        "w0, w = train_linear_regression(X_train, y_train)"
      ],
      "execution_count": 22,
      "outputs": []
    },
    {
      "cell_type": "code",
      "metadata": {
        "colab": {
          "base_uri": "https://localhost:8080/"
        },
        "id": "UIjn4bpooyOD",
        "outputId": "0f4ded0a-c7a3-4d3a-8891-9a508542bca0"
      },
      "source": [
        "w"
      ],
      "execution_count": 23,
      "outputs": [
        {
          "output_type": "execute_result",
          "data": {
            "text/plain": [
              "array([ 1.30676225e+00, -5.02167854e+00, -5.59803109e-04, -4.07634896e-04,\n",
              "       -8.25470069e-03,  1.33371320e-03,  6.50203890e-04])"
            ]
          },
          "metadata": {},
          "execution_count": 23
        }
      ]
    },
    {
      "cell_type": "code",
      "metadata": {
        "id": "VnqkSC-1pFCd"
      },
      "source": [
        "X_val = prepare_X(df_val)\n",
        "y_pred = w0 + X_val.dot(w)\n",
        "score = rmse(y_val, y_pred)"
      ],
      "execution_count": 24,
      "outputs": []
    },
    {
      "cell_type": "code",
      "metadata": {
        "colab": {
          "base_uri": "https://localhost:8080/"
        },
        "id": "f6wUUN7-u0jd",
        "outputId": "02f67213-c2e5-423a-f6f0-df108c20fcd9"
      },
      "source": [
        "round(score, 2)"
      ],
      "execution_count": 25,
      "outputs": [
        {
          "output_type": "execute_result",
          "data": {
            "text/plain": [
              "0.64"
            ]
          },
          "metadata": {},
          "execution_count": 25
        }
      ]
    },
    {
      "cell_type": "code",
      "metadata": {
        "colab": {
          "base_uri": "https://localhost:8080/",
          "height": 284
        },
        "id": "kRMzu3Lgs-bv",
        "outputId": "ee3eac2d-498a-4b35-ab17-b44703ed29be"
      },
      "source": [
        "sns.histplot(y_pred, color='red', alpha=0.5, bins=50)\n",
        "sns.histplot(y_train, color='blue', alpha=0.5, bins=50)"
      ],
      "execution_count": 26,
      "outputs": [
        {
          "output_type": "execute_result",
          "data": {
            "text/plain": [
              "<matplotlib.axes._subplots.AxesSubplot at 0x7fd2b71cd650>"
            ]
          },
          "metadata": {},
          "execution_count": 26
        },
        {
          "output_type": "display_data",
          "data": {
            "image/png": "[encoded data removed]",
            "text/plain": [
              "<Figure size 432x288 with 1 Axes>"
            ]
          },
          "metadata": {
            "needs_background": "light"
          }
        }
      ]
    },
    {
      "cell_type": "code",
      "metadata": {
        "id": "vfimbN1tpK5Q"
      },
      "source": [
        "#FILLING MISSING VALUES WITH MEAN\n",
        "\n",
        "X_train_mean = prepare_X_mean(df_train)"
      ],
      "execution_count": 27,
      "outputs": []
    },
    {
      "cell_type": "code",
      "metadata": {
        "id": "nCzj2yp1pyRS"
      },
      "source": [
        "w0, w = train_linear_regression(X_train_mean, y_train)"
      ],
      "execution_count": 28,
      "outputs": []
    },
    {
      "cell_type": "code",
      "metadata": {
        "id": "P3vPKxFtqY8Q"
      },
      "source": [
        "X_val = prepare_X(df_val)\n",
        "y_pred = w0 + X_val.dot(w)\n",
        "score_mean = rmse(y_val, y_pred)"
      ],
      "execution_count": 29,
      "outputs": []
    },
    {
      "cell_type": "code",
      "metadata": {
        "colab": {
          "base_uri": "https://localhost:8080/"
        },
        "id": "pMoBx2eYu8iO",
        "outputId": "b051cd7f-72d9-4036-de27-b6ce2e268856"
      },
      "source": [
        "round(score_mean, 2)"
      ],
      "execution_count": 30,
      "outputs": [
        {
          "output_type": "execute_result",
          "data": {
            "text/plain": [
              "0.64"
            ]
          },
          "metadata": {},
          "execution_count": 30
        }
      ]
    },
    {
      "cell_type": "code",
      "metadata": {
        "colab": {
          "base_uri": "https://localhost:8080/",
          "height": 284
        },
        "id": "tp-7Ws8DqclP",
        "outputId": "f7860c33-9044-402e-8714-80a1025cdeaf"
      },
      "source": [
        "sns.histplot(y_pred, color='red', alpha=0.5, bins=50)\n",
        "sns.histplot(y_train, color='blue', alpha=0.5, bins=50)"
      ],
      "execution_count": 31,
      "outputs": [
        {
          "output_type": "execute_result",
          "data": {
            "text/plain": [
              "<matplotlib.axes._subplots.AxesSubplot at 0x7fd2b7258ad0>"
            ]
          },
          "metadata": {},
          "execution_count": 31
        },
        {
          "output_type": "display_data",
          "data": {
            "image/png": "[encoded data removed]",
            "text/plain": [
              "<Figure size 432x288 with 1 Axes>"
            ]
          },
          "metadata": {
            "needs_background": "light"
          }
        }
      ]
    },
    {
      "cell_type": "markdown",
      "metadata": {
        "id": "ydzMKqp6xPyV"
      },
      "source": [
        "**QUESTION 4**"
      ]
    },
    {
      "cell_type": "code",
      "metadata": {
        "id": "APNVtJSiwHwE"
      },
      "source": [
        "def train_linear_regression_reg(X, y, r=0.001):\n",
        "    ones = np.ones(X.shape[0])\n",
        "    X = np.column_stack([ones, X])\n",
        "\n",
        "    XTX = X.T.dot(X)\n",
        "    XTX = XTX + r * np.eye(XTX.shape[0])\n",
        "\n",
        "    XTX_inv = np.linalg.inv(XTX)\n",
        "    w_full = XTX_inv.dot(X.T).dot(y)\n",
        "    \n",
        "    return w_full[0], w_full[1:]"
      ],
      "execution_count": 32,
      "outputs": []
    },
    {
      "cell_type": "code",
      "metadata": {
        "id": "0Sm7iE-cxm2c"
      },
      "source": [
        "r_parameters = [0, 0.000001, 0.0001, 0.001, 0.01, 0.1, 1, 5, 10]\n",
        "r_dict = {}\n",
        "for r in r_parameters:\n",
        "    X_train = prepare_X(df_train)\n",
        "    w0, w = train_linear_regression_reg(X_train, y_train, r=r)\n",
        "\n",
        "    X_val = prepare_X(df_val)\n",
        "    y_pred = w0 + X_val.dot(w)\n",
        "    score = rmse(y_val, y_pred)\n",
        "    \n",
        "    r_dict[r] = round(score, 2)"
      ],
      "execution_count": 33,
      "outputs": []
    },
    {
      "cell_type": "code",
      "metadata": {
        "colab": {
          "base_uri": "https://localhost:8080/"
        },
        "id": "AyuiBsJrzXLH",
        "outputId": "320a7b8d-a389-4f2b-c36b-b4f4882922e5"
      },
      "source": [
        "r_dict"
      ],
      "execution_count": 35,
      "outputs": [
        {
          "output_type": "execute_result",
          "data": {
            "text/plain": [
              "{0: 0.64,\n",
              " 1e-06: 0.64,\n",
              " 0.0001: 0.64,\n",
              " 0.001: 0.64,\n",
              " 0.01: 0.66,\n",
              " 0.1: 0.68,\n",
              " 1: 0.68,\n",
              " 5: 0.68,\n",
              " 10: 0.68}"
            ]
          },
          "metadata": {},
          "execution_count": 35
        }
      ]
    },
    {
      "cell_type": "markdown",
      "metadata": {
        "id": "bo5t_qd51RdC"
      },
      "source": [
        "**QUESTION 5**"
      ]
    },
    {
      "cell_type": "code",
      "metadata": {
        "id": "1FoHdvbg1Q8B"
      },
      "source": [
        "seed = [0, 1, 2, 3, 4, 5, 6, 7, 8, 9]\n",
        "result_dict = {}\n",
        "\n",
        "for i in seed:\n",
        "  np.random.seed(i)\n",
        "\n",
        "  idx = np.arange(n)\n",
        "  np.random.shuffle(idx)\n",
        "\n",
        "  df_train = df_new.iloc[idx[:n_train]]\n",
        "  df_val = df_new.iloc[idx[n_train:n_train+n_val]]\n",
        "  df_test = df_new.iloc[idx[n_train+n_val:]]\n",
        "\n",
        "  df_train = df_train.reset_index(drop=True)\n",
        "  df_val = df_val.reset_index(drop=True)\n",
        "  df_test = df_test.reset_index(drop=True)\n",
        "\n",
        "  y_train = np.log1p(df_train.price.values)\n",
        "  y_val = np.log1p(df_val.price.values)\n",
        "  y_test = np.log1p(df_test.price.values)\n",
        "\n",
        "  del df_train['price']\n",
        "  del df_val['price']\n",
        "  del df_test['price']\n",
        "\n",
        "  X_train = prepare_X(df_train)\n",
        "\n",
        "  w0, w = train_linear_regression(X_train, y_train)\n",
        "\n",
        "  X_val = prepare_X(df_val)\n",
        "  y_pred = w0 + X_val.dot(w)\n",
        "  score = rmse(y_val, y_pred)\n",
        "\n",
        "  result_dict[i] = score"
      ],
      "execution_count": 39,
      "outputs": []
    },
    {
      "cell_type": "code",
      "metadata": {
        "colab": {
          "base_uri": "https://localhost:8080/"
        },
        "id": "MmcUaF3IzaTd",
        "outputId": "b8408c2c-bb9e-44e4-8fbd-49561c25591d"
      },
      "source": [
        "result_dict"
      ],
      "execution_count": 40,
      "outputs": [
        {
          "output_type": "execute_result",
          "data": {
            "text/plain": [
              "{0: 0.6549779961157263,\n",
              " 1: 0.646252368578719,\n",
              " 2: 0.6476558177163445,\n",
              " 3: 0.6375145071233626,\n",
              " 4: 0.6445809083551755,\n",
              " 5: 0.6305809996077186,\n",
              " 6: 0.6297851917617103,\n",
              " 7: 0.6506184267164312,\n",
              " 8: 0.6489780353432693,\n",
              " 9: 0.6437565168302604}"
            ]
          },
          "metadata": {},
          "execution_count": 40
        }
      ]
    },
    {
      "cell_type": "code",
      "metadata": {
        "colab": {
          "base_uri": "https://localhost:8080/"
        },
        "id": "8f3Ayp6o9eGn",
        "outputId": "e7dfbfd7-1344-4c40-ee61-2ae803fd5017"
      },
      "source": [
        "round(np.std(list(result_dict.values())), 3)"
      ],
      "execution_count": 54,
      "outputs": [
        {
          "output_type": "execute_result",
          "data": {
            "text/plain": [
              "0.008"
            ]
          },
          "metadata": {},
          "execution_count": 54
        }
      ]
    },
    {
      "cell_type": "markdown",
      "metadata": {
        "id": "IqtEDY7u_DWd"
      },
      "source": [
        "**QUESTION 6**"
      ]
    },
    {
      "cell_type": "code",
      "metadata": {
        "id": "UrYG3rtB-LRv"
      },
      "source": [
        "  np.random.seed(9)\n",
        "\n",
        "  idx = np.arange(n)\n",
        "  np.random.shuffle(idx)\n",
        "\n",
        "  df_train = df_new.iloc[idx[:n_train]]\n",
        "  df_val = df_new.iloc[idx[n_train:n_train+n_val]]\n",
        "  df_test = df_new.iloc[idx[n_train+n_val:]]\n",
        "\n",
        "  df_train = df_train.reset_index(drop=True)\n",
        "  df_val = df_val.reset_index(drop=True)\n",
        "  df_test = df_test.reset_index(drop=True)\n",
        "\n",
        "  y_train = np.log1p(df_train.price.values)\n",
        "  y_val = np.log1p(df_val.price.values)\n",
        "  y_test = np.log1p(df_test.price.values)\n",
        "\n",
        "  del df_train['price']\n",
        "  del df_val['price']\n",
        "  del df_test['price']"
      ],
      "execution_count": 55,
      "outputs": []
    },
    {
      "cell_type": "code",
      "metadata": {
        "id": "kXRH1oJFATOi"
      },
      "source": [
        "df_full_train = pd.concat([df_train, df_val])"
      ],
      "execution_count": 56,
      "outputs": []
    },
    {
      "cell_type": "code",
      "metadata": {
        "id": "OZIuwAdwAYw9"
      },
      "source": [
        "df_full_train = df_full_train.reset_index(drop=True)"
      ],
      "execution_count": 57,
      "outputs": []
    },
    {
      "cell_type": "code",
      "metadata": {
        "id": "T-kvw3WIAfG5"
      },
      "source": [
        "X_full_train = prepare_X(df_full_train)"
      ],
      "execution_count": 58,
      "outputs": []
    },
    {
      "cell_type": "code",
      "metadata": {
        "id": "YV2rG98OArOV"
      },
      "source": [
        "y_full_train = np.concatenate([y_train, y_val])"
      ],
      "execution_count": 59,
      "outputs": []
    },
    {
      "cell_type": "code",
      "metadata": {
        "id": "vqUQD9mYA0XC"
      },
      "source": [
        "w0, w = train_linear_regression_reg(X_full_train, y_full_train, r=0.001)"
      ],
      "execution_count": 60,
      "outputs": []
    },
    {
      "cell_type": "code",
      "metadata": {
        "colab": {
          "base_uri": "https://localhost:8080/"
        },
        "id": "gBEOvkW8BAaK",
        "outputId": "1600e830-554a-46e8-8fab-ff3bb0844b02"
      },
      "source": [
        "X_test = prepare_X(df_test)\n",
        "y_pred = w0 + X_test.dot(w)\n",
        "score = rmse(y_test, y_pred)\n",
        "score"
      ],
      "execution_count": 61,
      "outputs": [
        {
          "output_type": "execute_result",
          "data": {
            "text/plain": [
              "0.6452771348554612"
            ]
          },
          "metadata": {},
          "execution_count": 61
        }
      ]
    },
    {
      "cell_type": "code",
      "metadata": {
        "id": "dphSILx5BUP4"
      },
      "source": [
        ""
      ],
      "execution_count": null,
      "outputs": []
    }
  ]
}